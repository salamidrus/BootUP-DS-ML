{
 "cells": [
  {
   "cell_type": "markdown",
   "metadata": {
    "colab_type": "text",
    "id": "view-in-github"
   },
   "source": [
    "<a href=\"https://colab.research.google.com/github/anshupandey/techtrunk_training/blob/master/Assignment1_python_getting_started.ipynb\" target=\"_parent\"><img src=\"https://colab.research.google.com/assets/colab-badge.svg\" alt=\"Open In Colab\"/></a>"
   ]
  },
  {
   "cell_type": "markdown",
   "metadata": {
    "colab_type": "text",
    "id": "f1TWTGqob4vF",
    "tags": [
     "Python",
     "Assignments",
     "Practice",
     "course",
     "python"
    ]
   },
   "source": [
    " # Getting Started with Python"
   ]
  },
  {
   "cell_type": "markdown",
   "metadata": {
    "colab_type": "text",
    "id": "whK_2Ayvb4vI",
    "tags": [
     "reverese_number",
     "python_excercise",
     "code",
     "python"
    ]
   },
   "source": [
    "### Excercise 1\n",
    "\n",
    "<b><p> Write code which accepts a number from user and returns the reverse of it.</b>\n",
    "    <br> For example \n",
    "    <li> reverse_number(852) will return 258\n",
    "    <li> reverse_number(6242) will return 2426\n",
    "    <li> reverse_number(81) will return 18"
   ]
  },
  {
   "cell_type": "code",
   "execution_count": 1,
   "metadata": {
    "colab": {},
    "colab_type": "code",
    "id": "dWx0iwNAb4vJ"
   },
   "outputs": [],
   "source": [
    "def reverse_number(num):\n",
    "    # you code goes here --\n",
    "    \n",
    "    if type(num) != int:\n",
    "        return print(\"Please input an integer value only!\")\n",
    "    \n",
    "    num = num.reverse()\n",
    "    \n",
    "    \n",
    "    \n",
    "    return num"
   ]
  },
  {
   "cell_type": "code",
   "execution_count": 3,
   "metadata": {},
   "outputs": [
    {
     "ename": "AttributeError",
     "evalue": "'int' object has no attribute 'reverse'",
     "output_type": "error",
     "traceback": [
      "\u001b[1;31m---------------------------------------------------------------------------\u001b[0m",
      "\u001b[1;31mAttributeError\u001b[0m                            Traceback (most recent call last)",
      "\u001b[1;32m<ipython-input-3-80a5fdfbc370>\u001b[0m in \u001b[0;36m<module>\u001b[1;34m\u001b[0m\n\u001b[1;32m----> 1\u001b[1;33m \u001b[0mreverse_number\u001b[0m\u001b[1;33m(\u001b[0m\u001b[1;36m852\u001b[0m\u001b[1;33m)\u001b[0m\u001b[1;33m\u001b[0m\u001b[1;33m\u001b[0m\u001b[0m\n\u001b[0m",
      "\u001b[1;32m<ipython-input-1-337abad72d97>\u001b[0m in \u001b[0;36mreverse_number\u001b[1;34m(num)\u001b[0m\n\u001b[0;32m      5\u001b[0m         \u001b[1;32mreturn\u001b[0m \u001b[0mprint\u001b[0m\u001b[1;33m(\u001b[0m\u001b[1;34m\"Please input an integer value only!\"\u001b[0m\u001b[1;33m)\u001b[0m\u001b[1;33m\u001b[0m\u001b[1;33m\u001b[0m\u001b[0m\n\u001b[0;32m      6\u001b[0m \u001b[1;33m\u001b[0m\u001b[0m\n\u001b[1;32m----> 7\u001b[1;33m     \u001b[0mnum\u001b[0m \u001b[1;33m=\u001b[0m \u001b[0mnum\u001b[0m\u001b[1;33m.\u001b[0m\u001b[0mreverse\u001b[0m\u001b[1;33m(\u001b[0m\u001b[1;33m)\u001b[0m\u001b[1;33m\u001b[0m\u001b[1;33m\u001b[0m\u001b[0m\n\u001b[0m\u001b[0;32m      8\u001b[0m \u001b[1;33m\u001b[0m\u001b[0m\n\u001b[0;32m      9\u001b[0m \u001b[1;33m\u001b[0m\u001b[0m\n",
      "\u001b[1;31mAttributeError\u001b[0m: 'int' object has no attribute 'reverse'"
     ]
    }
   ],
   "source": [
    "reverse_number(852)"
   ]
  },
  {
   "cell_type": "markdown",
   "metadata": {
    "colab_type": "text",
    "id": "W8WYSjV3b4vS",
    "tags": [
     "python",
     "excercise"
    ]
   },
   "source": [
    "### Excercise 2\n",
    "\n",
    "<b><p> Write a program that computes the net amount of a bank account based a transaction log from console input. The transaction log format is shown as following: </b>\n",
    "    <br> D 100 \n",
    "    <br> W 200\n",
    "    \n",
    "   For example \n",
    "    \n",
    "    D means deposit while W means withdrawal.\n",
    "    Suppose the following input is supplied to the program:\n",
    "    D 300\n",
    "    D 300\n",
    "    W 200\n",
    "    D 100\n",
    "    Then, the output should be:\n",
    "    500\n",
    "\n",
    "\n",
    "Hints: In case of input data being supplied to the question, it should be assumed to be a console input."
   ]
  },
  {
   "cell_type": "code",
   "execution_count": null,
   "metadata": {
    "colab": {},
    "colab_type": "code",
    "id": "8ngdJGK3b4vU"
   },
   "outputs": [],
   "source": [
    "count = input(\"Enter the number of transactions: \")\n",
    "for i in range(int(count)):\n",
    "    transaction = input(\"Transaction: \")\n",
    "    # write your code here onwards p.s. you can also change this structure to achieve required objective\n",
    "    \n",
    "    \n",
    "    \n",
    "    \n",
    "    "
   ]
  },
  {
   "cell_type": "markdown",
   "metadata": {
    "colab_type": "text",
    "id": "Lhn6hdtAb4vY",
    "tags": [
     "python",
     "text",
     "excercise",
     "Peter",
     "Norvig"
    ]
   },
   "source": [
    "### Excercise 3\n",
    "\n",
    "<b><p> Download the dataset from  </b>\n",
    "\n",
    " http://norvig.com/ngrams/sowpods.txt \n",
    "\n",
    "    In this exercise, the task is to write a function that picks a random word from a list of words from the downloaded dictionary.\n",
    "\n",
    "<br>This file is Peter Norvig’s compilation of the dictionary of words used in professional Scrabble tournaments. Each line in the file contains a single word.\n",
    "\n",
    "    To solve this exercise, you need to do three things:\n",
    "\n",
    "-\tRead all the lists of words\n",
    "-\tGenerate a random number\n",
    "-\tTake that word\n"
   ]
  },
  {
   "cell_type": "code",
   "execution_count": null,
   "metadata": {
    "colab": {},
    "colab_type": "code",
    "id": "zh0NwwSab4vZ"
   },
   "outputs": [],
   "source": [
    "def get_word():\n",
    "    file = open()\n",
    "    # you code goes here\n",
    "    \n",
    "    \n",
    "    \n",
    "    \n",
    "    return word"
   ]
  },
  {
   "cell_type": "markdown",
   "metadata": {
    "colab_type": "text",
    "id": "WYbmEOIhb4vd",
    "tags": [
     "words",
     "python",
     "code",
     "excercise"
    ]
   },
   "source": [
    "### Excercise 4\n",
    "\n",
    "<br><b>Write a program to compute the frequency of the words from the input. The output should output after sorting the key alphanumerically.</b> \n",
    "\n",
    "<br> Suppose the following input is supplied to the program:<br>\n",
    "<code> “New to Python or choosing between Python 2 and Python 3? Read Python 2 or Python 3.” </code>\n",
    "\n",
    "    Then, the output should be:\n",
    "    2:2\n",
    "    3.:1\n",
    "    3?:1\n",
    "    New:1\n",
    "    Python:5\n",
    "    Read:1\n",
    "    and:1\n",
    "    between:1\n",
    "    choosing:1\n",
    "    or:2\n",
    "    to:1\n",
    "<br><br> \n",
    "Hints: In case of input data being supplied to the question, it should be assumed to be a console input.\n"
   ]
  },
  {
   "cell_type": "code",
   "execution_count": null,
   "metadata": {
    "colab": {},
    "colab_type": "code",
    "id": "gSqU2xRLb4vf"
   },
   "outputs": [],
   "source": [
    "text = input(\"Enter your text here: \\n\")\n",
    "# your code goes here\n",
    "\n",
    "\n",
    "\n",
    "print(output)"
   ]
  },
  {
   "cell_type": "markdown",
   "metadata": {
    "colab_type": "text",
    "id": "Bkx3zUSlb4vj",
    "tags": [
     "regular_expression",
     "python",
     "excercise",
     "code"
    ]
   },
   "source": [
    "### Excercise 5\n",
    "\n",
    "<br><b>A website requires the users to input username and password to register. Write a program to check the validity of password input by users.</b> \n",
    "\n",
    "\n",
    "<br><br>Following are the criteria for checking the password:\n",
    "\n",
    "    a.\tAt least 1 letter between [a-z]\n",
    "    b.\tAt least 1 number between [0-9]\n",
    "    c.\tAt least 1 letter between [A-Z]\n",
    "    d.\tAt least 1 character from [_#@]\n",
    "    e.\tMinimum length of transaction password: 6\n",
    "    f.\tMaximum length of transaction password: 12\n",
    "\n",
    "<br> <p> Your program should accept a sequence of comma separated passwords and will check them according to the above criteria. Passwords that match the criteria are to be printed, each separated by a comma.\n",
    "<br><br>\n",
    "*For Example*\n",
    "<br>If the following passwords are given as input to the program:\n",
    "\n",
    "    ABd1234@1,a F1#,2w3E*,2We3345\n",
    "Then, the output of the program should be:\n",
    "\n",
    "    ABd1234@1\n",
    "\n",
    "<br>Hints: In case of input data being supplied to the question, it should be assumed to be a console input\n",
    "  \n"
   ]
  },
  {
   "cell_type": "code",
   "execution_count": null,
   "metadata": {
    "colab": {},
    "colab_type": "code",
    "id": "YgE1DnDDb4vl"
   },
   "outputs": [],
   "source": [
    "# Your solution goes here."
   ]
  }
 ],
 "metadata": {
  "colab": {
   "name": "Assignment2_python_getting_started.ipynb",
   "provenance": []
  },
  "kernelspec": {
   "display_name": "Python 3",
   "language": "python",
   "name": "python3"
  },
  "language_info": {
   "codemirror_mode": {
    "name": "ipython",
    "version": 3
   },
   "file_extension": ".py",
   "mimetype": "text/x-python",
   "name": "python",
   "nbconvert_exporter": "python",
   "pygments_lexer": "ipython3",
   "version": "3.7.6"
  }
 },
 "nbformat": 4,
 "nbformat_minor": 1
}
