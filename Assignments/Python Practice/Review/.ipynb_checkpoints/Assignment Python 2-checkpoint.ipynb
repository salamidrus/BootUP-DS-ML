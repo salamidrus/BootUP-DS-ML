{
 "cells": [
  {
   "cell_type": "markdown",
   "metadata": {},
   "source": [
    "## Reverse a string"
   ]
  },
  {
   "cell_type": "code",
   "execution_count": 5,
   "metadata": {},
   "outputs": [],
   "source": [
    "def reverse_number(num):\n",
    "    num = list(str(num))\n",
    "    num.reverse()\n",
    "    return int(\"\".join(num))"
   ]
  },
  {
   "cell_type": "code",
   "execution_count": 6,
   "metadata": {},
   "outputs": [
    {
     "data": {
      "text/plain": [
       "654"
      ]
     },
     "execution_count": 6,
     "metadata": {},
     "output_type": "execute_result"
    }
   ],
   "source": [
    "reverse_number(456)"
   ]
  },
  {
   "cell_type": "markdown",
   "metadata": {},
   "source": [
    "## Generate Bank Function to Draw & Withdraw Balance"
   ]
  },
  {
   "cell_type": "code",
   "execution_count": null,
   "metadata": {},
   "outputs": [],
   "source": [
    "count = input (\"Enter the number of transactions: \")\n",
    "balance = 0\n",
    "\n",
    "for i in range(int(count)):\n",
    "    transaction = input(\"Transaction: \")\n",
    "    \n",
    "    transaction = transaction.split(\" \")\n",
    "    if transaction[0]== \"W\" : balance = balance - int(transaction[1])\n",
    "    elif transaction[1]== \"D\" : balance = balance + int(transaction[1])\n",
    "\n",
    "print(\"Your final balance is\", balance)"
   ]
  }
 ],
 "metadata": {
  "kernelspec": {
   "display_name": "Python 3",
   "language": "python",
   "name": "python3"
  },
  "language_info": {
   "codemirror_mode": {
    "name": "ipython",
    "version": 3
   },
   "file_extension": ".py",
   "mimetype": "text/x-python",
   "name": "python",
   "nbconvert_exporter": "python",
   "pygments_lexer": "ipython3",
   "version": "3.7.6"
  }
 },
 "nbformat": 4,
 "nbformat_minor": 4
}
