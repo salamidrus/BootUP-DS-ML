{
 "cells": [
  {
   "cell_type": "markdown",
   "metadata": {},
   "source": [
    "## Fibonacci"
   ]
  },
  {
   "cell_type": "code",
   "execution_count": 12,
   "metadata": {},
   "outputs": [],
   "source": [
    "def fib (length):\n",
    "    out = [0,1]\n",
    "    for i in range(length-2):\n",
    "        out.append(out[-1]+out[-2])\n",
    "    return out\n",
    "\n",
    "def fib1(length):\n",
    "    out = [0,1]\n",
    "    out.extend([out[i] for i in range (length)])\n",
    "    return out"
   ]
  },
  {
   "cell_type": "code",
   "execution_count": 14,
   "metadata": {},
   "outputs": [
    {
     "data": {
      "text/plain": [
       "[0, 1, 1, 2, 3, 5, 8, 13, 21, 34]"
      ]
     },
     "execution_count": 14,
     "metadata": {},
     "output_type": "execute_result"
    }
   ],
   "source": [
    "fib(10)"
   ]
  },
  {
   "cell_type": "markdown",
   "metadata": {},
   "source": [
    "## Generate password of length 8 which should have one minimum number and one minimum upper case."
   ]
  },
  {
   "cell_type": "code",
   "execution_count": 44,
   "metadata": {},
   "outputs": [],
   "source": [
    "def getPassword(length):\n",
    "    import string\n",
    "    import numpy as np\n",
    "    \n",
    "    uppercase = string.ascii_uppercase\n",
    "    lowercase = string.ascii_lowercase\n",
    "    numbers = string.digits\n",
    "    \n",
    "    all = lowercase+uppercase+numbers\n",
    "    \n",
    "    password = []\n",
    "    \n",
    "    password.append(np.random.choice(list(uppercase)))\n",
    "    password.append(np.random.choice(list(numbers)))\n",
    "    password.extend(np.random.choice(list(all), length - 2))\n",
    "    np.random.shuffle(password)\n",
    "    password = \"\".join(password)\n",
    "    \n",
    "    \n",
    "    return password"
   ]
  },
  {
   "cell_type": "code",
   "execution_count": 45,
   "metadata": {},
   "outputs": [
    {
     "name": "stdout",
     "output_type": "stream",
     "text": [
      "K9lACs2FPt\n",
      "GN8FP2KZEQ\n",
      "dXs2Gbbn0T\n",
      "2HR7g8v4VO\n",
      "02rYDSGD69\n",
      "VTJk7OP8sB\n",
      "pl8198TWML\n",
      "eIkxwK145M\n",
      "Pjxh26jpPK\n",
      "nNFBax4cvs\n",
      "xYLK6f9ybx\n",
      "2PE36XjxRl\n",
      "T2hdmTNR95\n",
      "yawzmC1zFK\n",
      "SvjXQ4d7f2\n",
      "V7XwIh2G05\n",
      "XVhOR5VlFW\n",
      "1hrt76Eu8O\n",
      "U37JDBJLBC\n",
      "4xxyaYr0Ln\n"
     ]
    }
   ],
   "source": [
    "for i in range(20): print(getPassword(10))"
   ]
  }
 ],
 "metadata": {
  "kernelspec": {
   "display_name": "Python 3",
   "language": "python",
   "name": "python3"
  },
  "language_info": {
   "codemirror_mode": {
    "name": "ipython",
    "version": 3
   },
   "file_extension": ".py",
   "mimetype": "text/x-python",
   "name": "python",
   "nbconvert_exporter": "python",
   "pygments_lexer": "ipython3",
   "version": "3.7.6"
  }
 },
 "nbformat": 4,
 "nbformat_minor": 4
}
