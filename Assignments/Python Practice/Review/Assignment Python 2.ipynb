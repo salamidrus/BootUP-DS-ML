{
 "cells": [
  {
   "cell_type": "markdown",
   "metadata": {},
   "source": [
    "## Reverse a string"
   ]
  },
  {
   "cell_type": "code",
   "execution_count": 5,
   "metadata": {},
   "outputs": [],
   "source": [
    "def reverse_number(num):\n",
    "    num = list(str(num))\n",
    "    num.reverse()\n",
    "    return int(\"\".join(num))"
   ]
  },
  {
   "cell_type": "code",
   "execution_count": 6,
   "metadata": {},
   "outputs": [
    {
     "data": {
      "text/plain": [
       "654"
      ]
     },
     "execution_count": 6,
     "metadata": {},
     "output_type": "execute_result"
    }
   ],
   "source": [
    "reverse_number(456)"
   ]
  },
  {
   "cell_type": "markdown",
   "metadata": {},
   "source": [
    "## Generate Bank Function to Draw & Withdraw Balance"
   ]
  },
  {
   "cell_type": "code",
   "execution_count": 9,
   "metadata": {},
   "outputs": [
    {
     "name": "stdout",
     "output_type": "stream",
     "text": [
      "Enter the number of transactions: 2\n",
      "Transaction: D 100\n",
      "Transaction: D 100\n",
      "Your final balance is 200\n"
     ]
    }
   ],
   "source": [
    "count = input (\"Enter the number of transactions: \")\n",
    "balance = 0\n",
    "\n",
    "for i in range(int(count)):\n",
    "    transaction = input(\"Transaction: \")\n",
    "    \n",
    "    transaction = transaction.split(\" \")\n",
    "    if transaction[0]== \"W\" : balance = balance - int(transaction[1])\n",
    "    elif transaction[0]== \"D\" : balance = balance + int(transaction[1])\n",
    "\n",
    "print(\"Your final balance is\", balance)"
   ]
  },
  {
   "cell_type": "markdown",
   "metadata": {},
   "source": [
    "## Read a random word from file"
   ]
  },
  {
   "cell_type": "code",
   "execution_count": 10,
   "metadata": {},
   "outputs": [],
   "source": [
    "def get_word():\n",
    "    import numpy as np\n",
    "    file = open(\"sowpods.txt\")\n",
    "    \n",
    "    data = file.readlines()\n",
    "    word = np.random.choice(data)\n",
    "    word = word.strip()\n",
    "    return word\n"
   ]
  },
  {
   "cell_type": "code",
   "execution_count": 17,
   "metadata": {},
   "outputs": [
    {
     "data": {
      "text/plain": [
       "'DIDO'"
      ]
     },
     "execution_count": 17,
     "metadata": {},
     "output_type": "execute_result"
    }
   ],
   "source": [
    "get_word()"
   ]
  },
  {
   "cell_type": "markdown",
   "metadata": {},
   "source": [
    "## Word Frequency Counter"
   ]
  },
  {
   "cell_type": "code",
   "execution_count": 23,
   "metadata": {},
   "outputs": [
    {
     "name": "stdout",
     "output_type": "stream",
     "text": [
      "Enter your text here: \n",
      "yoi yoi\n",
      "yoi  :  2\n"
     ]
    }
   ],
   "source": [
    "text = input(\"Enter your text here: \\n\")\n",
    "\n",
    "text = text.split(\" \")\n",
    "output = {}\n",
    "\n",
    "for w in text: output[w] = text.count(w)\n",
    "    \n",
    "keys = list(output.keys())\n",
    "keys.sort()\n",
    "for k in keys: print(k, \" : \", output[k])"
   ]
  },
  {
   "cell_type": "markdown",
   "metadata": {},
   "source": [
    "## Filter strong password"
   ]
  },
  {
   "cell_type": "markdown",
   "metadata": {},
   "source": [
    "1. accept the password from user from console\n",
    "2. conver them into list by splitting using \",\"\n",
    "3. create a list for storing valid password\n",
    "4. In a for loop will write code to examine each password\n",
    "    - check the length if it is between 6 to 12\n",
    "    - check if it contains at least a number, at least an uppercase, at least a lowercase"
   ]
  },
  {
   "cell_type": "code",
   "execution_count": 32,
   "metadata": {},
   "outputs": [
    {
     "name": "stdout",
     "output_type": "stream",
     "text": [
      "Enter the list of passwords separated by coma - hahah@, A2dkfan@, daa\n",
      "[' A2dkfan@']\n"
     ]
    }
   ],
   "source": [
    "password_list = input(\"Enter the list of passwords separated by coma - \")\n",
    "\n",
    "password_list = password_list.split(\",\")\n",
    "valid_passwords = []\n",
    "for pw in password_list:\n",
    "    capital_status = False\n",
    "    special_status = False\n",
    "    number_status = False\n",
    "    lower_status = False\n",
    "    if len(pw) > 6 and len(pw) < 12:\n",
    "        for c in list(pw): \n",
    "            if c.isupper(): capital_status = True\n",
    "            if c.islower(): lower_status = True\n",
    "            if c.isdigit(): number_status = True\n",
    "            if c in \"@_#\": special_status = True\n",
    "        if capital_status and lower_status and number_status and special_status:\n",
    "            valid_passwords.append(pw)\n",
    "print(valid_passwords)\n",
    "       "
   ]
  },
  {
   "cell_type": "code",
   "execution_count": 29,
   "metadata": {},
   "outputs": [
    {
     "data": {
      "text/plain": [
       "True"
      ]
     },
     "execution_count": 29,
     "metadata": {},
     "output_type": "execute_result"
    }
   ],
   "source": [
    "c = \"@^\"\n",
    "c in \"@_#\""
   ]
  }
 ],
 "metadata": {
  "kernelspec": {
   "display_name": "Python 3",
   "language": "python",
   "name": "python3"
  },
  "language_info": {
   "codemirror_mode": {
    "name": "ipython",
    "version": 3
   },
   "file_extension": ".py",
   "mimetype": "text/x-python",
   "name": "python",
   "nbconvert_exporter": "python",
   "pygments_lexer": "ipython3",
   "version": "3.7.6"
  }
 },
 "nbformat": 4,
 "nbformat_minor": 4
}
