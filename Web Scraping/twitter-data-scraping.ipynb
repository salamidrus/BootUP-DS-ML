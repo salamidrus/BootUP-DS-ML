{
 "cells": [
  {
   "cell_type": "code",
   "execution_count": 6,
   "metadata": {},
   "outputs": [],
   "source": [
    "api_key = \"LwrH0T5H6u1wzWOCnMlVSoRh5\"\n",
    "api_secret =  \"LVfLXMbcGzZ6NZdL3W48TnoXuFR1ye09Cx2ATg6UROj9XVfBmE\"\n",
    "access_token = \"857530568-rXyIUBnQCJJ3K0ymfcQ010UBdZefNqZGjlPoXZdB\"\n",
    "access_token_secret = \"G1LEQbRHhGC2lJVphClOz4bhzFaq0ufQTCtSOBZWUPWjJ\""
   ]
  },
  {
   "cell_type": "code",
   "execution_count": 7,
   "metadata": {},
   "outputs": [],
   "source": [
    "# tweepy\n",
    "# pip install tweepy\n",
    "import tweepy"
   ]
  },
  {
   "cell_type": "code",
   "execution_count": 8,
   "metadata": {},
   "outputs": [],
   "source": [
    "auth = tweepy.OAuthHandler(api_key,api_secret)\n",
    "auth.set_access_token(access_token,access_token_secret)\n",
    "api = tweepy.API(auth)"
   ]
  },
  {
   "cell_type": "code",
   "execution_count": 10,
   "metadata": {
    "scrolled": true
   },
   "outputs": [
    {
     "name": "stdout",
     "output_type": "stream",
     "text": [
      "RT @DanRather: Kamala Harris will be campaigning from inside Donald Trump’s head. No word on what social distancing is like in there.\n",
      "*****************************************\n",
      "RT @CoryBooker: Trust me, my sister @KamalaHarris is not worried about Donald Trump. Donald Trump should be worried about Kamala Harris. ht…\n",
      "*****************************************\n",
      "RT @tyleroakley: total coronavirus deaths in usa: 168,729\n",
      "\n",
      "meanwhile, donald trump: https://t.co/y0WVSok5Im\n",
      "*****************************************\n",
      "This man died because of Donald Trump.. and his trashy fking people post this horseshit from his account.. \n",
      "It's a… https://t.co/hf73kPL4gb\n",
      "*****************************************\n",
      "RT @brianschatz: Donald Trump is proposing to raid the social security trust fund, and I know everyone is busy and stoked about Kamala but…\n",
      "*****************************************\n",
      "RT @fred_guttenberg: I am voting for @JoeBiden &amp; @KamalaHarris.  I am a \"suburban\" man and I do not like racist dog whistles.  Todays remin…\n",
      "*****************************************\n",
      "Once again we have a white male calling a black woman who is now a Vice President candidate. And he happen to be Donald Trump.\n",
      "*****************************************\n",
      "RT @SimonWDC: Folks need to understand that a delay in certain medicines of even a few days can cause PEOPLE TO DIE.  \n",
      "\n",
      "Louis DeJoy is goin…\n",
      "*****************************************\n",
      "RT @lindyli: Harris: “The case against Donald Trump and Mike Pence is open and shut.”\n",
      "\n",
      "BOOM 👊🏻\n",
      "\n",
      "RT if you agree with our next Vice Presiden…\n",
      "*****************************************\n",
      "RT @ChrisMurphyCT: This was not inevitable. It just wasn't.\n",
      "\n",
      "A halfway competent President could have stopped the virus in its early days.…\n",
      "*****************************************\n"
     ]
    }
   ],
   "source": [
    "tweet_data = api.search(q='Donald Trump', count=10)\n",
    "for tweet in tweet_data:\n",
    "    print(tweet.text)\n",
    "    print(\"*****************************************\")"
   ]
  },
  {
   "cell_type": "code",
   "execution_count": 11,
   "metadata": {},
   "outputs": [
    {
     "data": {
      "text/plain": [
       "'en'"
      ]
     },
     "execution_count": 11,
     "metadata": {},
     "output_type": "execute_result"
    }
   ],
   "source": [
    "tweet.lang"
   ]
  },
  {
   "cell_type": "code",
   "execution_count": 12,
   "metadata": {},
   "outputs": [
    {
     "data": {
      "text/plain": [
       "6539"
      ]
     },
     "execution_count": 12,
     "metadata": {},
     "output_type": "execute_result"
    }
   ],
   "source": [
    "tweet.retweet_count"
   ]
  }
 ],
 "metadata": {
  "kernelspec": {
   "display_name": "Python 3",
   "language": "python",
   "name": "python3"
  },
  "language_info": {
   "codemirror_mode": {
    "name": "ipython",
    "version": 3
   },
   "file_extension": ".py",
   "mimetype": "text/x-python",
   "name": "python",
   "nbconvert_exporter": "python",
   "pygments_lexer": "ipython3",
   "version": "3.7.6"
  }
 },
 "nbformat": 4,
 "nbformat_minor": 4
}
